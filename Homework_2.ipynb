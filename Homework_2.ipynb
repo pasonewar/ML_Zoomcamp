{
 "cells": [
  {
   "cell_type": "code",
   "execution_count": 1,
   "id": "8ea399d8",
   "metadata": {},
   "outputs": [],
   "source": [
    "import pandas as pd\n",
    "import numpy as np\n",
    "import seaborn as sns\n",
    "from matplotlib import pyplot as plt"
   ]
  },
  {
   "cell_type": "code",
   "execution_count": 2,
   "id": "8f599a22",
   "metadata": {},
   "outputs": [
    {
     "data": {
      "text/plain": [
       "'1.20.3'"
      ]
     },
     "execution_count": 2,
     "metadata": {},
     "output_type": "execute_result"
    }
   ],
   "source": [
    "np.__version__"
   ]
  },
  {
   "cell_type": "markdown",
   "id": "aac687c7",
   "metadata": {},
   "source": [
    "### EDA\n",
    "\n",
    "Look at the median_house_value variable.\n",
    "\n",
    "Does it have a long tail? (YES)"
   ]
  },
  {
   "cell_type": "code",
   "execution_count": 3,
   "id": "b7465cb4",
   "metadata": {},
   "outputs": [],
   "source": [
    "df = pd.read_csv('raw.githubusercontent.com_alexeygrigorev_datasets_master_housing.csv')"
   ]
  },
  {
   "cell_type": "code",
   "execution_count": 4,
   "id": "aa3ab6cb",
   "metadata": {},
   "outputs": [
    {
     "data": {
      "text/plain": [
       "longitude               0\n",
       "latitude                0\n",
       "housing_median_age      0\n",
       "total_rooms             0\n",
       "total_bedrooms        207\n",
       "population              0\n",
       "households              0\n",
       "median_income           0\n",
       "median_house_value      0\n",
       "ocean_proximity         0\n",
       "dtype: int64"
      ]
     },
     "execution_count": 4,
     "metadata": {},
     "output_type": "execute_result"
    }
   ],
   "source": [
    "df.isnull().sum()"
   ]
  },
  {
   "cell_type": "code",
   "execution_count": 5,
   "id": "4bc1fde4",
   "metadata": {},
   "outputs": [
    {
     "data": {
      "text/plain": [
       "<AxesSubplot:xlabel='median_house_value', ylabel='Count'>"
      ]
     },
     "execution_count": 5,
     "metadata": {},
     "output_type": "execute_result"
    },
    {
     "data": {
      "image/png": "[encoded data removed]",
      "text/plain": [
       "<Figure size 432x288 with 1 Axes>"
      ]
     },
     "metadata": {
      "needs_background": "light"
     },
     "output_type": "display_data"
    }
   ],
   "source": [
    "sns.histplot(df['median_house_value'])"
   ]
  },
  {
   "cell_type": "code",
   "execution_count": null,
   "id": "2261e2ba",
   "metadata": {},
   "outputs": [],
   "source": []
  },
  {
   "cell_type": "markdown",
   "id": "529afc94",
   "metadata": {},
   "source": [
    "### Subset the dataset:\n",
    "First, keep only the records where ocean_proximity is either '<1H OCEAN' or 'INLAND'\n",
    "\n",
    "Next, use only the following columns:\n",
    "\n",
    "'latitude',\n",
    "'longitude',\n",
    "'housing_median_age',\n",
    "'total_rooms',\n",
    "'total_bedrooms',\n",
    "'population',\n",
    "'households',\n",
    "'median_income',\n",
    "'median_house_value'"
   ]
  },
  {
   "cell_type": "code",
   "execution_count": 6,
   "id": "6ca28202",
   "metadata": {},
   "outputs": [
    {
     "data": {
      "text/plain": [
       "<1H OCEAN     9136\n",
       "INLAND        6551\n",
       "NEAR OCEAN    2658\n",
       "NEAR BAY      2290\n",
       "ISLAND           5\n",
       "Name: ocean_proximity, dtype: int64"
      ]
     },
     "execution_count": 6,
     "metadata": {},
     "output_type": "execute_result"
    }
   ],
   "source": [
    "df['ocean_proximity'].value_counts()"
   ]
  },
  {
   "cell_type": "code",
   "execution_count": 7,
   "id": "537151f6",
   "metadata": {},
   "outputs": [
    {
     "data": {
      "text/html": [
       "<div>\n",
       "<style scoped>\n",
       "    .dataframe tbody tr th:only-of-type {\n",
       "        vertical-align: middle;\n",
       "    }\n",
       "\n",
       "    .dataframe tbody tr th {\n",
       "        vertical-align: top;\n",
       "    }\n",
       "\n",
       "    .dataframe thead th {\n",
       "        text-align: right;\n",
       "    }\n",
       "</style>\n",
       "<table border=\"1\" class=\"dataframe\">\n",
       "  <thead>\n",
       "    <tr style=\"text-align: right;\">\n",
       "      <th></th>\n",
       "      <th>longitude</th>\n",
       "      <th>latitude</th>\n",
       "      <th>housing_median_age</th>\n",
       "      <th>total_rooms</th>\n",
       "      <th>total_bedrooms</th>\n",
       "      <th>population</th>\n",
       "      <th>households</th>\n",
       "      <th>median_income</th>\n",
       "      <th>median_house_value</th>\n",
       "      <th>ocean_proximity</th>\n",
       "    </tr>\n",
       "  </thead>\n",
       "  <tbody>\n",
       "    <tr>\n",
       "      <th>701</th>\n",
       "      <td>-121.97</td>\n",
       "      <td>37.64</td>\n",
       "      <td>32.0</td>\n",
       "      <td>1283.0</td>\n",
       "      <td>194.0</td>\n",
       "      <td>485.0</td>\n",
       "      <td>171.0</td>\n",
       "      <td>6.0574</td>\n",
       "      <td>431000.0</td>\n",
       "      <td>&lt;1H OCEAN</td>\n",
       "    </tr>\n",
       "    <tr>\n",
       "      <th>830</th>\n",
       "      <td>-121.99</td>\n",
       "      <td>37.61</td>\n",
       "      <td>9.0</td>\n",
       "      <td>3666.0</td>\n",
       "      <td>711.0</td>\n",
       "      <td>2341.0</td>\n",
       "      <td>703.0</td>\n",
       "      <td>4.6458</td>\n",
       "      <td>217000.0</td>\n",
       "      <td>&lt;1H OCEAN</td>\n",
       "    </tr>\n",
       "    <tr>\n",
       "      <th>859</th>\n",
       "      <td>-121.97</td>\n",
       "      <td>37.57</td>\n",
       "      <td>21.0</td>\n",
       "      <td>4342.0</td>\n",
       "      <td>783.0</td>\n",
       "      <td>2172.0</td>\n",
       "      <td>789.0</td>\n",
       "      <td>4.6146</td>\n",
       "      <td>247600.0</td>\n",
       "      <td>&lt;1H OCEAN</td>\n",
       "    </tr>\n",
       "    <tr>\n",
       "      <th>860</th>\n",
       "      <td>-121.96</td>\n",
       "      <td>37.58</td>\n",
       "      <td>15.0</td>\n",
       "      <td>3575.0</td>\n",
       "      <td>597.0</td>\n",
       "      <td>1777.0</td>\n",
       "      <td>559.0</td>\n",
       "      <td>5.7192</td>\n",
       "      <td>283500.0</td>\n",
       "      <td>&lt;1H OCEAN</td>\n",
       "    </tr>\n",
       "    <tr>\n",
       "      <th>861</th>\n",
       "      <td>-121.98</td>\n",
       "      <td>37.58</td>\n",
       "      <td>20.0</td>\n",
       "      <td>4126.0</td>\n",
       "      <td>1031.0</td>\n",
       "      <td>2079.0</td>\n",
       "      <td>975.0</td>\n",
       "      <td>3.6832</td>\n",
       "      <td>216900.0</td>\n",
       "      <td>&lt;1H OCEAN</td>\n",
       "    </tr>\n",
       "    <tr>\n",
       "      <th>...</th>\n",
       "      <td>...</td>\n",
       "      <td>...</td>\n",
       "      <td>...</td>\n",
       "      <td>...</td>\n",
       "      <td>...</td>\n",
       "      <td>...</td>\n",
       "      <td>...</td>\n",
       "      <td>...</td>\n",
       "      <td>...</td>\n",
       "      <td>...</td>\n",
       "    </tr>\n",
       "    <tr>\n",
       "      <th>20635</th>\n",
       "      <td>-121.09</td>\n",
       "      <td>39.48</td>\n",
       "      <td>25.0</td>\n",
       "      <td>1665.0</td>\n",
       "      <td>374.0</td>\n",
       "      <td>845.0</td>\n",
       "      <td>330.0</td>\n",
       "      <td>1.5603</td>\n",
       "      <td>78100.0</td>\n",
       "      <td>INLAND</td>\n",
       "    </tr>\n",
       "    <tr>\n",
       "      <th>20636</th>\n",
       "      <td>-121.21</td>\n",
       "      <td>39.49</td>\n",
       "      <td>18.0</td>\n",
       "      <td>697.0</td>\n",
       "      <td>150.0</td>\n",
       "      <td>356.0</td>\n",
       "      <td>114.0</td>\n",
       "      <td>2.5568</td>\n",
       "      <td>77100.0</td>\n",
       "      <td>INLAND</td>\n",
       "    </tr>\n",
       "    <tr>\n",
       "      <th>20637</th>\n",
       "      <td>-121.22</td>\n",
       "      <td>39.43</td>\n",
       "      <td>17.0</td>\n",
       "      <td>2254.0</td>\n",
       "      <td>485.0</td>\n",
       "      <td>1007.0</td>\n",
       "      <td>433.0</td>\n",
       "      <td>1.7000</td>\n",
       "      <td>92300.0</td>\n",
       "      <td>INLAND</td>\n",
       "    </tr>\n",
       "    <tr>\n",
       "      <th>20638</th>\n",
       "      <td>-121.32</td>\n",
       "      <td>39.43</td>\n",
       "      <td>18.0</td>\n",
       "      <td>1860.0</td>\n",
       "      <td>409.0</td>\n",
       "      <td>741.0</td>\n",
       "      <td>349.0</td>\n",
       "      <td>1.8672</td>\n",
       "      <td>84700.0</td>\n",
       "      <td>INLAND</td>\n",
       "    </tr>\n",
       "    <tr>\n",
       "      <th>20639</th>\n",
       "      <td>-121.24</td>\n",
       "      <td>39.37</td>\n",
       "      <td>16.0</td>\n",
       "      <td>2785.0</td>\n",
       "      <td>616.0</td>\n",
       "      <td>1387.0</td>\n",
       "      <td>530.0</td>\n",
       "      <td>2.3886</td>\n",
       "      <td>89400.0</td>\n",
       "      <td>INLAND</td>\n",
       "    </tr>\n",
       "  </tbody>\n",
       "</table>\n",
       "<p>15687 rows × 10 columns</p>\n",
       "</div>"
      ],
      "text/plain": [
       "       longitude  latitude  housing_median_age  total_rooms  total_bedrooms  \\\n",
       "701      -121.97     37.64                32.0       1283.0           194.0   \n",
       "830      -121.99     37.61                 9.0       3666.0           711.0   \n",
       "859      -121.97     37.57                21.0       4342.0           783.0   \n",
       "860      -121.96     37.58                15.0       3575.0           597.0   \n",
       "861      -121.98     37.58                20.0       4126.0          1031.0   \n",
       "...          ...       ...                 ...          ...             ...   \n",
       "20635    -121.09     39.48                25.0       1665.0           374.0   \n",
       "20636    -121.21     39.49                18.0        697.0           150.0   \n",
       "20637    -121.22     39.43                17.0       2254.0           485.0   \n",
       "20638    -121.32     39.43                18.0       1860.0           409.0   \n",
       "20639    -121.24     39.37                16.0       2785.0           616.0   \n",
       "\n",
       "       population  households  median_income  median_house_value  \\\n",
       "701         485.0       171.0         6.0574            431000.0   \n",
       "830        2341.0       703.0         4.6458            217000.0   \n",
       "859        2172.0       789.0         4.6146            247600.0   \n",
       "860        1777.0       559.0         5.7192            283500.0   \n",
       "861        2079.0       975.0         3.6832            216900.0   \n",
       "...           ...         ...            ...                 ...   \n",
       "20635       845.0       330.0         1.5603             78100.0   \n",
       "20636       356.0       114.0         2.5568             77100.0   \n",
       "20637      1007.0       433.0         1.7000             92300.0   \n",
       "20638       741.0       349.0         1.8672             84700.0   \n",
       "20639      1387.0       530.0         2.3886             89400.0   \n",
       "\n",
       "      ocean_proximity  \n",
       "701         <1H OCEAN  \n",
       "830         <1H OCEAN  \n",
       "859         <1H OCEAN  \n",
       "860         <1H OCEAN  \n",
       "861         <1H OCEAN  \n",
       "...               ...  \n",
       "20635          INLAND  \n",
       "20636          INLAND  \n",
       "20637          INLAND  \n",
       "20638          INLAND  \n",
       "20639          INLAND  \n",
       "\n",
       "[15687 rows x 10 columns]"
      ]
     },
     "execution_count": 7,
     "metadata": {},
     "output_type": "execute_result"
    }
   ],
   "source": [
    "df1 = df[(df['ocean_proximity'] == '<1H OCEAN') | (df['ocean_proximity'] == 'INLAND')]\n",
    "df1"
   ]
  },
  {
   "cell_type": "code",
   "execution_count": 8,
   "id": "bba7e47c",
   "metadata": {},
   "outputs": [
    {
     "data": {
      "text/html": [
       "<div>\n",
       "<style scoped>\n",
       "    .dataframe tbody tr th:only-of-type {\n",
       "        vertical-align: middle;\n",
       "    }\n",
       "\n",
       "    .dataframe tbody tr th {\n",
       "        vertical-align: top;\n",
       "    }\n",
       "\n",
       "    .dataframe thead th {\n",
       "        text-align: right;\n",
       "    }\n",
       "</style>\n",
       "<table border=\"1\" class=\"dataframe\">\n",
       "  <thead>\n",
       "    <tr style=\"text-align: right;\">\n",
       "      <th></th>\n",
       "      <th>latitude</th>\n",
       "      <th>longitude</th>\n",
       "      <th>housing_median_age</th>\n",
       "      <th>total_rooms</th>\n",
       "      <th>total_bedrooms</th>\n",
       "      <th>population</th>\n",
       "      <th>households</th>\n",
       "      <th>median_income</th>\n",
       "      <th>median_house_value</th>\n",
       "    </tr>\n",
       "  </thead>\n",
       "  <tbody>\n",
       "    <tr>\n",
       "      <th>701</th>\n",
       "      <td>37.64</td>\n",
       "      <td>-121.97</td>\n",
       "      <td>32.0</td>\n",
       "      <td>1283.0</td>\n",
       "      <td>194.0</td>\n",
       "      <td>485.0</td>\n",
       "      <td>171.0</td>\n",
       "      <td>6.0574</td>\n",
       "      <td>431000.0</td>\n",
       "    </tr>\n",
       "    <tr>\n",
       "      <th>830</th>\n",
       "      <td>37.61</td>\n",
       "      <td>-121.99</td>\n",
       "      <td>9.0</td>\n",
       "      <td>3666.0</td>\n",
       "      <td>711.0</td>\n",
       "      <td>2341.0</td>\n",
       "      <td>703.0</td>\n",
       "      <td>4.6458</td>\n",
       "      <td>217000.0</td>\n",
       "    </tr>\n",
       "    <tr>\n",
       "      <th>859</th>\n",
       "      <td>37.57</td>\n",
       "      <td>-121.97</td>\n",
       "      <td>21.0</td>\n",
       "      <td>4342.0</td>\n",
       "      <td>783.0</td>\n",
       "      <td>2172.0</td>\n",
       "      <td>789.0</td>\n",
       "      <td>4.6146</td>\n",
       "      <td>247600.0</td>\n",
       "    </tr>\n",
       "    <tr>\n",
       "      <th>860</th>\n",
       "      <td>37.58</td>\n",
       "      <td>-121.96</td>\n",
       "      <td>15.0</td>\n",
       "      <td>3575.0</td>\n",
       "      <td>597.0</td>\n",
       "      <td>1777.0</td>\n",
       "      <td>559.0</td>\n",
       "      <td>5.7192</td>\n",
       "      <td>283500.0</td>\n",
       "    </tr>\n",
       "    <tr>\n",
       "      <th>861</th>\n",
       "      <td>37.58</td>\n",
       "      <td>-121.98</td>\n",
       "      <td>20.0</td>\n",
       "      <td>4126.0</td>\n",
       "      <td>1031.0</td>\n",
       "      <td>2079.0</td>\n",
       "      <td>975.0</td>\n",
       "      <td>3.6832</td>\n",
       "      <td>216900.0</td>\n",
       "    </tr>\n",
       "    <tr>\n",
       "      <th>...</th>\n",
       "      <td>...</td>\n",
       "      <td>...</td>\n",
       "      <td>...</td>\n",
       "      <td>...</td>\n",
       "      <td>...</td>\n",
       "      <td>...</td>\n",
       "      <td>...</td>\n",
       "      <td>...</td>\n",
       "      <td>...</td>\n",
       "    </tr>\n",
       "    <tr>\n",
       "      <th>20635</th>\n",
       "      <td>39.48</td>\n",
       "      <td>-121.09</td>\n",
       "      <td>25.0</td>\n",
       "      <td>1665.0</td>\n",
       "      <td>374.0</td>\n",
       "      <td>845.0</td>\n",
       "      <td>330.0</td>\n",
       "      <td>1.5603</td>\n",
       "      <td>78100.0</td>\n",
       "    </tr>\n",
       "    <tr>\n",
       "      <th>20636</th>\n",
       "      <td>39.49</td>\n",
       "      <td>-121.21</td>\n",
       "      <td>18.0</td>\n",
       "      <td>697.0</td>\n",
       "      <td>150.0</td>\n",
       "      <td>356.0</td>\n",
       "      <td>114.0</td>\n",
       "      <td>2.5568</td>\n",
       "      <td>77100.0</td>\n",
       "    </tr>\n",
       "    <tr>\n",
       "      <th>20637</th>\n",
       "      <td>39.43</td>\n",
       "      <td>-121.22</td>\n",
       "      <td>17.0</td>\n",
       "      <td>2254.0</td>\n",
       "      <td>485.0</td>\n",
       "      <td>1007.0</td>\n",
       "      <td>433.0</td>\n",
       "      <td>1.7000</td>\n",
       "      <td>92300.0</td>\n",
       "    </tr>\n",
       "    <tr>\n",
       "      <th>20638</th>\n",
       "      <td>39.43</td>\n",
       "      <td>-121.32</td>\n",
       "      <td>18.0</td>\n",
       "      <td>1860.0</td>\n",
       "      <td>409.0</td>\n",
       "      <td>741.0</td>\n",
       "      <td>349.0</td>\n",
       "      <td>1.8672</td>\n",
       "      <td>84700.0</td>\n",
       "    </tr>\n",
       "    <tr>\n",
       "      <th>20639</th>\n",
       "      <td>39.37</td>\n",
       "      <td>-121.24</td>\n",
       "      <td>16.0</td>\n",
       "      <td>2785.0</td>\n",
       "      <td>616.0</td>\n",
       "      <td>1387.0</td>\n",
       "      <td>530.0</td>\n",
       "      <td>2.3886</td>\n",
       "      <td>89400.0</td>\n",
       "    </tr>\n",
       "  </tbody>\n",
       "</table>\n",
       "<p>15687 rows × 9 columns</p>\n",
       "</div>"
      ],
      "text/plain": [
       "       latitude  longitude  housing_median_age  total_rooms  total_bedrooms  \\\n",
       "701       37.64    -121.97                32.0       1283.0           194.0   \n",
       "830       37.61    -121.99                 9.0       3666.0           711.0   \n",
       "859       37.57    -121.97                21.0       4342.0           783.0   \n",
       "860       37.58    -121.96                15.0       3575.0           597.0   \n",
       "861       37.58    -121.98                20.0       4126.0          1031.0   \n",
       "...         ...        ...                 ...          ...             ...   \n",
       "20635     39.48    -121.09                25.0       1665.0           374.0   \n",
       "20636     39.49    -121.21                18.0        697.0           150.0   \n",
       "20637     39.43    -121.22                17.0       2254.0           485.0   \n",
       "20638     39.43    -121.32                18.0       1860.0           409.0   \n",
       "20639     39.37    -121.24                16.0       2785.0           616.0   \n",
       "\n",
       "       population  households  median_income  median_house_value  \n",
       "701         485.0       171.0         6.0574            431000.0  \n",
       "830        2341.0       703.0         4.6458            217000.0  \n",
       "859        2172.0       789.0         4.6146            247600.0  \n",
       "860        1777.0       559.0         5.7192            283500.0  \n",
       "861        2079.0       975.0         3.6832            216900.0  \n",
       "...           ...         ...            ...                 ...  \n",
       "20635       845.0       330.0         1.5603             78100.0  \n",
       "20636       356.0       114.0         2.5568             77100.0  \n",
       "20637      1007.0       433.0         1.7000             92300.0  \n",
       "20638       741.0       349.0         1.8672             84700.0  \n",
       "20639      1387.0       530.0         2.3886             89400.0  \n",
       "\n",
       "[15687 rows x 9 columns]"
      ]
     },
     "execution_count": 8,
     "metadata": {},
     "output_type": "execute_result"
    }
   ],
   "source": [
    "df2 = df1[['latitude', 'longitude', 'housing_median_age', 'total_rooms',\n",
    "       'total_bedrooms', 'population', 'households', 'median_income',\n",
    "       'median_house_value']]\n",
    "df2"
   ]
  },
  {
   "cell_type": "markdown",
   "id": "4d982ee4",
   "metadata": {},
   "source": [
    "## Question 1: There's one feature with missing values. What is it?"
   ]
  },
  {
   "cell_type": "code",
   "execution_count": 9,
   "id": "ee1321b0",
   "metadata": {},
   "outputs": [
    {
     "data": {
      "text/plain": [
       "latitude                0\n",
       "longitude               0\n",
       "housing_median_age      0\n",
       "total_rooms             0\n",
       "total_bedrooms        157\n",
       "population              0\n",
       "households              0\n",
       "median_income           0\n",
       "median_house_value      0\n",
       "dtype: int64"
      ]
     },
     "execution_count": 9,
     "metadata": {},
     "output_type": "execute_result"
    }
   ],
   "source": [
    "df2.isnull().sum()\n",
    "#total_bedrooms"
   ]
  },
  {
   "cell_type": "markdown",
   "id": "78e28862",
   "metadata": {},
   "source": [
    "## Question 2: What's the median (50% percentile) for variable 'population'?"
   ]
  },
  {
   "cell_type": "code",
   "execution_count": 10,
   "id": "f9f8ec4a",
   "metadata": {},
   "outputs": [
    {
     "data": {
      "text/html": [
       "<div>\n",
       "<style scoped>\n",
       "    .dataframe tbody tr th:only-of-type {\n",
       "        vertical-align: middle;\n",
       "    }\n",
       "\n",
       "    .dataframe tbody tr th {\n",
       "        vertical-align: top;\n",
       "    }\n",
       "\n",
       "    .dataframe thead th {\n",
       "        text-align: right;\n",
       "    }\n",
       "</style>\n",
       "<table border=\"1\" class=\"dataframe\">\n",
       "  <thead>\n",
       "    <tr style=\"text-align: right;\">\n",
       "      <th></th>\n",
       "      <th>latitude</th>\n",
       "      <th>longitude</th>\n",
       "      <th>housing_median_age</th>\n",
       "      <th>total_rooms</th>\n",
       "      <th>total_bedrooms</th>\n",
       "      <th>population</th>\n",
       "      <th>households</th>\n",
       "      <th>median_income</th>\n",
       "      <th>median_house_value</th>\n",
       "    </tr>\n",
       "  </thead>\n",
       "  <tbody>\n",
       "    <tr>\n",
       "      <th>count</th>\n",
       "      <td>15687.000000</td>\n",
       "      <td>15687.000000</td>\n",
       "      <td>15687.000000</td>\n",
       "      <td>15687.000000</td>\n",
       "      <td>15530.000000</td>\n",
       "      <td>15687.000000</td>\n",
       "      <td>15687.000000</td>\n",
       "      <td>15687.000000</td>\n",
       "      <td>15687.000000</td>\n",
       "    </tr>\n",
       "    <tr>\n",
       "      <th>mean</th>\n",
       "      <td>35.467307</td>\n",
       "      <td>-119.217442</td>\n",
       "      <td>27.188118</td>\n",
       "      <td>2665.677312</td>\n",
       "      <td>541.244688</td>\n",
       "      <td>1466.317205</td>\n",
       "      <td>500.916491</td>\n",
       "      <td>3.804019</td>\n",
       "      <td>191943.020017</td>\n",
       "    </tr>\n",
       "    <tr>\n",
       "      <th>std</th>\n",
       "      <td>2.066387</td>\n",
       "      <td>1.780380</td>\n",
       "      <td>12.057128</td>\n",
       "      <td>2257.672743</td>\n",
       "      <td>435.650018</td>\n",
       "      <td>1180.389908</td>\n",
       "      <td>392.759399</td>\n",
       "      <td>1.857158</td>\n",
       "      <td>108801.077620</td>\n",
       "    </tr>\n",
       "    <tr>\n",
       "      <th>min</th>\n",
       "      <td>32.610000</td>\n",
       "      <td>-124.140000</td>\n",
       "      <td>1.000000</td>\n",
       "      <td>2.000000</td>\n",
       "      <td>2.000000</td>\n",
       "      <td>3.000000</td>\n",
       "      <td>2.000000</td>\n",
       "      <td>0.499900</td>\n",
       "      <td>14999.000000</td>\n",
       "    </tr>\n",
       "    <tr>\n",
       "      <th>25%</th>\n",
       "      <td>33.940000</td>\n",
       "      <td>-121.070000</td>\n",
       "      <td>17.000000</td>\n",
       "      <td>1441.000000</td>\n",
       "      <td>295.000000</td>\n",
       "      <td>802.000000</td>\n",
       "      <td>278.000000</td>\n",
       "      <td>2.520800</td>\n",
       "      <td>111300.000000</td>\n",
       "    </tr>\n",
       "    <tr>\n",
       "      <th>50%</th>\n",
       "      <td>34.160000</td>\n",
       "      <td>-118.370000</td>\n",
       "      <td>27.000000</td>\n",
       "      <td>2118.000000</td>\n",
       "      <td>432.000000</td>\n",
       "      <td>1195.000000</td>\n",
       "      <td>406.000000</td>\n",
       "      <td>3.468800</td>\n",
       "      <td>166900.000000</td>\n",
       "    </tr>\n",
       "    <tr>\n",
       "      <th>75%</th>\n",
       "      <td>37.340000</td>\n",
       "      <td>-117.990000</td>\n",
       "      <td>36.000000</td>\n",
       "      <td>3172.000000</td>\n",
       "      <td>645.000000</td>\n",
       "      <td>1777.000000</td>\n",
       "      <td>602.000000</td>\n",
       "      <td>4.686200</td>\n",
       "      <td>241100.000000</td>\n",
       "    </tr>\n",
       "    <tr>\n",
       "      <th>max</th>\n",
       "      <td>41.950000</td>\n",
       "      <td>-114.310000</td>\n",
       "      <td>52.000000</td>\n",
       "      <td>39320.000000</td>\n",
       "      <td>6445.000000</td>\n",
       "      <td>35682.000000</td>\n",
       "      <td>6082.000000</td>\n",
       "      <td>15.000100</td>\n",
       "      <td>500001.000000</td>\n",
       "    </tr>\n",
       "  </tbody>\n",
       "</table>\n",
       "</div>"
      ],
      "text/plain": [
       "           latitude     longitude  housing_median_age   total_rooms  \\\n",
       "count  15687.000000  15687.000000        15687.000000  15687.000000   \n",
       "mean      35.467307   -119.217442           27.188118   2665.677312   \n",
       "std        2.066387      1.780380           12.057128   2257.672743   \n",
       "min       32.610000   -124.140000            1.000000      2.000000   \n",
       "25%       33.940000   -121.070000           17.000000   1441.000000   \n",
       "50%       34.160000   -118.370000           27.000000   2118.000000   \n",
       "75%       37.340000   -117.990000           36.000000   3172.000000   \n",
       "max       41.950000   -114.310000           52.000000  39320.000000   \n",
       "\n",
       "       total_bedrooms    population    households  median_income  \\\n",
       "count    15530.000000  15687.000000  15687.000000   15687.000000   \n",
       "mean       541.244688   1466.317205    500.916491       3.804019   \n",
       "std        435.650018   1180.389908    392.759399       1.857158   \n",
       "min          2.000000      3.000000      2.000000       0.499900   \n",
       "25%        295.000000    802.000000    278.000000       2.520800   \n",
       "50%        432.000000   1195.000000    406.000000       3.468800   \n",
       "75%        645.000000   1777.000000    602.000000       4.686200   \n",
       "max       6445.000000  35682.000000   6082.000000      15.000100   \n",
       "\n",
       "       median_house_value  \n",
       "count        15687.000000  \n",
       "mean        191943.020017  \n",
       "std         108801.077620  \n",
       "min          14999.000000  \n",
       "25%         111300.000000  \n",
       "50%         166900.000000  \n",
       "75%         241100.000000  \n",
       "max         500001.000000  "
      ]
     },
     "execution_count": 10,
     "metadata": {},
     "output_type": "execute_result"
    }
   ],
   "source": [
    "df2.describe()"
   ]
  },
  {
   "cell_type": "code",
   "execution_count": 11,
   "id": "16e37d07",
   "metadata": {},
   "outputs": [
    {
     "data": {
      "text/plain": [
       "1195.0"
      ]
     },
     "execution_count": 11,
     "metadata": {},
     "output_type": "execute_result"
    }
   ],
   "source": [
    "df2['population'].median()\n",
    "#1195"
   ]
  },
  {
   "cell_type": "markdown",
   "id": "8a842281",
   "metadata": {},
   "source": [
    "### Prepare and split the dataset\n",
    "Shuffle the initial dataset, use seed 42.\n",
    "\n",
    "Split your data in train/val/test sets, with 60%/20%/20% distribution.\n",
    "\n",
    "Apply the log transformation to the median_house_value variable using the np.log1p() function."
   ]
  },
  {
   "cell_type": "code",
   "execution_count": 12,
   "id": "d829c171",
   "metadata": {},
   "outputs": [
    {
     "data": {
      "text/plain": [
       "15687"
      ]
     },
     "execution_count": 12,
     "metadata": {},
     "output_type": "execute_result"
    }
   ],
   "source": [
    "n=len(df2)\n",
    "n"
   ]
  },
  {
   "cell_type": "code",
   "execution_count": 13,
   "id": "cf791421",
   "metadata": {},
   "outputs": [],
   "source": [
    "n_val = int(n*0.2)\n",
    "n_test = int(n*0.2)\n",
    "n_train = n-n_test-n_val"
   ]
  },
  {
   "cell_type": "code",
   "execution_count": 14,
   "id": "efaecfcc",
   "metadata": {},
   "outputs": [
    {
     "data": {
      "text/plain": [
       "(9413, 3137, 3137)"
      ]
     },
     "execution_count": 14,
     "metadata": {},
     "output_type": "execute_result"
    }
   ],
   "source": [
    "n_train, n_val, n_test"
   ]
  },
  {
   "cell_type": "code",
   "execution_count": 15,
   "id": "738d37a6",
   "metadata": {},
   "outputs": [
    {
     "data": {
      "text/plain": [
       "15687"
      ]
     },
     "execution_count": 15,
     "metadata": {},
     "output_type": "execute_result"
    }
   ],
   "source": [
    "n_train+ n_val+ n_test"
   ]
  },
  {
   "cell_type": "code",
   "execution_count": 16,
   "id": "23166520",
   "metadata": {},
   "outputs": [],
   "source": [
    "np.random.seed(42)\n",
    "idx = np.arange(n)"
   ]
  },
  {
   "cell_type": "code",
   "execution_count": 17,
   "id": "9d0c4b22",
   "metadata": {},
   "outputs": [
    {
     "data": {
      "text/plain": [
       "array([15183,  4469,  9316, ...,  5390,   860,  7270])"
      ]
     },
     "execution_count": 17,
     "metadata": {},
     "output_type": "execute_result"
    }
   ],
   "source": [
    "np.random.shuffle(idx)\n",
    "idx"
   ]
  },
  {
   "cell_type": "code",
   "execution_count": 18,
   "id": "4c054c91",
   "metadata": {},
   "outputs": [
    {
     "data": {
      "text/plain": [
       "array([15183,  4469,  9316, ...,  5231,  2076,  4103])"
      ]
     },
     "execution_count": 18,
     "metadata": {},
     "output_type": "execute_result"
    }
   ],
   "source": [
    "idx[:n_train]"
   ]
  },
  {
   "cell_type": "code",
   "execution_count": 19,
   "id": "94fe591d",
   "metadata": {},
   "outputs": [],
   "source": [
    "df_train = df2.iloc[idx[:n_train]]\n",
    "df_val = df2.iloc[idx[n_train:n_train+n_val]]\n",
    "df_test = df2.iloc[idx[n_train+n_val:]]"
   ]
  },
  {
   "cell_type": "code",
   "execution_count": 20,
   "id": "a211b2f3",
   "metadata": {},
   "outputs": [
    {
     "data": {
      "text/plain": [
       "((9413, 9), (3137, 9), (3137, 9))"
      ]
     },
     "execution_count": 20,
     "metadata": {},
     "output_type": "execute_result"
    }
   ],
   "source": [
    "df_train.shape,df_val.shape,df_test.shape"
   ]
  },
  {
   "cell_type": "code",
   "execution_count": 21,
   "id": "10d71051",
   "metadata": {},
   "outputs": [],
   "source": [
    "df_train = df_train.reset_index(drop=True)\n",
    "df_val = df_val.reset_index(drop=True)\n",
    "df_test = df_test.reset_index(drop=True)"
   ]
  },
  {
   "cell_type": "code",
   "execution_count": 22,
   "id": "1e627d68",
   "metadata": {},
   "outputs": [
    {
     "data": {
      "text/plain": [
       "array([11.16196275, 12.32163544, 12.4718963 , ..., 13.12236738,\n",
       "       12.11888489, 12.52924613])"
      ]
     },
     "execution_count": 22,
     "metadata": {},
     "output_type": "execute_result"
    }
   ],
   "source": [
    "np.log1p(df_train['median_house_value'].values)"
   ]
  },
  {
   "cell_type": "code",
   "execution_count": 23,
   "id": "e5cead0d",
   "metadata": {},
   "outputs": [],
   "source": [
    "y_train = np.log1p(df_train['median_house_value'].values)\n",
    "y_val = np.log1p(df_val['median_house_value'].values)\n",
    "y_test = np.log1p(df_test['median_house_value'].values)"
   ]
  },
  {
   "cell_type": "code",
   "execution_count": 112,
   "id": "92836e9e",
   "metadata": {},
   "outputs": [
    {
     "data": {
      "text/plain": [
       "array([11.16196275, 12.32163544, 12.4718963 , ..., 13.12236738,\n",
       "       12.11888489, 12.52924613])"
      ]
     },
     "execution_count": 112,
     "metadata": {},
     "output_type": "execute_result"
    }
   ],
   "source": [
    "y_train"
   ]
  },
  {
   "cell_type": "code",
   "execution_count": 24,
   "id": "3fc2ad71",
   "metadata": {},
   "outputs": [],
   "source": [
    "del df_train['median_house_value']\n",
    "del df_val['median_house_value']\n",
    "del df_test['median_house_value']"
   ]
  },
  {
   "cell_type": "markdown",
   "id": "e9202ce2",
   "metadata": {},
   "source": [
    "### Question 3\n",
    "We need to deal with missing values for the column from Q1.\n",
    "\n",
    "We have two options: fill it with 0 or with the mean of this variable.\n",
    "\n",
    "Try both options. For each, train a linear regression model without regularization using the code from the lessons.\n",
    "\n",
    "For computing the mean, use the training only!\n",
    "\n",
    "Use the validation dataset to evaluate the models and compare the RMSE of each option.\n",
    "\n",
    "Round the RMSE scores to 2 decimal digits using round(score, 2)\n",
    "\n",
    "Which option gives better RMSE?"
   ]
  },
  {
   "cell_type": "code",
   "execution_count": 25,
   "id": "5bcf1a9b",
   "metadata": {},
   "outputs": [
    {
     "data": {
      "text/plain": [
       "latitude               0\n",
       "longitude              0\n",
       "housing_median_age     0\n",
       "total_rooms            0\n",
       "total_bedrooms        94\n",
       "population             0\n",
       "households             0\n",
       "median_income          0\n",
       "dtype: int64"
      ]
     },
     "execution_count": 25,
     "metadata": {},
     "output_type": "execute_result"
    }
   ],
   "source": [
    "df_train.isnull().sum()"
   ]
  },
  {
   "cell_type": "code",
   "execution_count": 26,
   "id": "0735ec1e",
   "metadata": {},
   "outputs": [],
   "source": [
    "df_train_zero = df_train.copy()\n",
    "df_train_mean = df_train.copy()"
   ]
  },
  {
   "cell_type": "code",
   "execution_count": 27,
   "id": "ccdb85c0",
   "metadata": {},
   "outputs": [],
   "source": [
    "df_train_zero['total_bedrooms'].fillna(0,inplace=True)"
   ]
  },
  {
   "cell_type": "code",
   "execution_count": 28,
   "id": "99a3efa8",
   "metadata": {},
   "outputs": [],
   "source": [
    "df_train_mean['total_bedrooms'].fillna(df_train['total_bedrooms'].mean(),inplace=True)"
   ]
  },
  {
   "cell_type": "code",
   "execution_count": 29,
   "id": "db3c941e",
   "metadata": {},
   "outputs": [],
   "source": [
    "df_val_zero = df_val.copy()\n",
    "df_val_mean = df_val.copy()"
   ]
  },
  {
   "cell_type": "code",
   "execution_count": 30,
   "id": "0f1936b8",
   "metadata": {},
   "outputs": [],
   "source": [
    "df_val_zero['total_bedrooms'].fillna(0,inplace=True)\n",
    "df_val_mean['total_bedrooms'].fillna(df_train['total_bedrooms'].mean(),inplace=True)"
   ]
  },
  {
   "cell_type": "code",
   "execution_count": 31,
   "id": "f0051d65",
   "metadata": {},
   "outputs": [],
   "source": [
    "def train_linear_regression(X, y):\n",
    "    ones = np.ones(X.shape[0])\n",
    "    X = np.column_stack([ones, X])\n",
    "\n",
    "    XTX = X.T.dot(X)\n",
    "    XTX_inv = np.linalg.inv(XTX)\n",
    "    w_full = XTX_inv.dot(X.T).dot(y)\n",
    "    \n",
    "    return w_full[0], w_full[1:]"
   ]
  },
  {
   "cell_type": "code",
   "execution_count": 32,
   "id": "658fd892",
   "metadata": {},
   "outputs": [],
   "source": [
    "def rmse(y, y_pred):\n",
    "    se = (y - y_pred) ** 2\n",
    "    mse = se.mean()\n",
    "    return np.sqrt(mse)"
   ]
  },
  {
   "cell_type": "code",
   "execution_count": 33,
   "id": "c11e7be5",
   "metadata": {},
   "outputs": [
    {
     "data": {
      "text/plain": [
       "(-9.763249477895233,\n",
       " array([-2.68233309e-01, -2.55938802e-01,  1.77710730e-03, -3.38393956e-05,\n",
       "         2.93766352e-04, -1.52190447e-04,  3.96908643e-04,  1.80600946e-01]))"
      ]
     },
     "execution_count": 33,
     "metadata": {},
     "output_type": "execute_result"
    }
   ],
   "source": [
    "train_linear_regression(df_train_zero,y_train)"
   ]
  },
  {
   "cell_type": "code",
   "execution_count": 34,
   "id": "e634125a",
   "metadata": {},
   "outputs": [
    {
     "data": {
      "text/plain": [
       "(-9.8861332156448,\n",
       " array([-2.68652914e-01, -2.57026361e-01,  1.79880767e-03, -3.87631029e-05,\n",
       "         3.78806885e-04, -1.49641599e-04,  3.25344392e-04,  1.81951358e-01]))"
      ]
     },
     "execution_count": 34,
     "metadata": {},
     "output_type": "execute_result"
    }
   ],
   "source": [
    "train_linear_regression(df_train_mean,y_train)"
   ]
  },
  {
   "cell_type": "markdown",
   "id": "03125140",
   "metadata": {},
   "source": [
    "#### Evaluate the model with fillna(0)"
   ]
  },
  {
   "cell_type": "code",
   "execution_count": 40,
   "id": "3c140734",
   "metadata": {},
   "outputs": [
    {
     "data": {
      "text/plain": [
       "0.34"
      ]
     },
     "execution_count": 40,
     "metadata": {},
     "output_type": "execute_result"
    }
   ],
   "source": [
    "w0, w = train_linear_regression(df_train_zero,y_train)\n",
    "y_pred = w0 + df_val_zero.dot(w)\n",
    "round(rmse(y_val,y_pred),2)\n",
    "#rmse(y_val,y_pred)"
   ]
  },
  {
   "cell_type": "markdown",
   "id": "1bacda25",
   "metadata": {},
   "source": [
    "#### Evaluate the model with fillna(mean)"
   ]
  },
  {
   "cell_type": "code",
   "execution_count": 41,
   "id": "1067a19e",
   "metadata": {},
   "outputs": [
    {
     "data": {
      "text/plain": [
       "0.34"
      ]
     },
     "execution_count": 41,
     "metadata": {},
     "output_type": "execute_result"
    }
   ],
   "source": [
    "w0, w = train_linear_regression(df_train_mean,y_train)\n",
    "y_pred = w0 + df_val_mean.dot(w)\n",
    "rmse(y_val,y_pred).round(2)\n",
    "#rmse(y_val,y_pred)"
   ]
  },
  {
   "cell_type": "code",
   "execution_count": 37,
   "id": "236b3af9",
   "metadata": {},
   "outputs": [],
   "source": [
    "#Both results are equally good"
   ]
  },
  {
   "cell_type": "code",
   "execution_count": null,
   "id": "00ee81dd",
   "metadata": {},
   "outputs": [],
   "source": []
  },
  {
   "cell_type": "markdown",
   "id": "c65535d5",
   "metadata": {},
   "source": [
    "### Question 4\n",
    "Now let's train a regularized linear regression.\n",
    "\n",
    "For this question, fill the NAs with 0.\n",
    "\n",
    "Try different values of r from this list: [0, 0.000001, 0.0001, 0.001, 0.01, 0.1, 1, 5, 10].\n",
    "\n",
    "Use RMSE to evaluate the model on the validation dataset.\n",
    "\n",
    "Round the RMSE scores to 2 decimal digits.\n",
    "\n",
    "Which r gives the best RMSE?\n",
    "\n",
    "If there are multiple options, select the smallest r."
   ]
  },
  {
   "cell_type": "code",
   "execution_count": 45,
   "id": "1095a51d",
   "metadata": {},
   "outputs": [
    {
     "data": {
      "text/html": [
       "<div>\n",
       "<style scoped>\n",
       "    .dataframe tbody tr th:only-of-type {\n",
       "        vertical-align: middle;\n",
       "    }\n",
       "\n",
       "    .dataframe tbody tr th {\n",
       "        vertical-align: top;\n",
       "    }\n",
       "\n",
       "    .dataframe thead th {\n",
       "        text-align: right;\n",
       "    }\n",
       "</style>\n",
       "<table border=\"1\" class=\"dataframe\">\n",
       "  <thead>\n",
       "    <tr style=\"text-align: right;\">\n",
       "      <th></th>\n",
       "      <th>latitude</th>\n",
       "      <th>longitude</th>\n",
       "      <th>housing_median_age</th>\n",
       "      <th>total_rooms</th>\n",
       "      <th>total_bedrooms</th>\n",
       "      <th>population</th>\n",
       "      <th>households</th>\n",
       "      <th>median_income</th>\n",
       "    </tr>\n",
       "  </thead>\n",
       "  <tbody>\n",
       "    <tr>\n",
       "      <th>0</th>\n",
       "      <td>36.23</td>\n",
       "      <td>-119.14</td>\n",
       "      <td>22.0</td>\n",
       "      <td>2935.0</td>\n",
       "      <td>523.0</td>\n",
       "      <td>1927.0</td>\n",
       "      <td>530.0</td>\n",
       "      <td>2.5875</td>\n",
       "    </tr>\n",
       "    <tr>\n",
       "      <th>1</th>\n",
       "      <td>34.12</td>\n",
       "      <td>-117.79</td>\n",
       "      <td>16.0</td>\n",
       "      <td>2426.0</td>\n",
       "      <td>426.0</td>\n",
       "      <td>1319.0</td>\n",
       "      <td>446.0</td>\n",
       "      <td>4.8125</td>\n",
       "    </tr>\n",
       "    <tr>\n",
       "      <th>2</th>\n",
       "      <td>33.68</td>\n",
       "      <td>-117.97</td>\n",
       "      <td>26.0</td>\n",
       "      <td>3653.0</td>\n",
       "      <td>568.0</td>\n",
       "      <td>1930.0</td>\n",
       "      <td>585.0</td>\n",
       "      <td>5.7301</td>\n",
       "    </tr>\n",
       "    <tr>\n",
       "      <th>3</th>\n",
       "      <td>34.10</td>\n",
       "      <td>-118.03</td>\n",
       "      <td>32.0</td>\n",
       "      <td>2668.0</td>\n",
       "      <td>609.0</td>\n",
       "      <td>1512.0</td>\n",
       "      <td>541.0</td>\n",
       "      <td>2.9422</td>\n",
       "    </tr>\n",
       "    <tr>\n",
       "      <th>4</th>\n",
       "      <td>37.34</td>\n",
       "      <td>-121.87</td>\n",
       "      <td>39.0</td>\n",
       "      <td>2479.0</td>\n",
       "      <td>541.0</td>\n",
       "      <td>1990.0</td>\n",
       "      <td>506.0</td>\n",
       "      <td>2.4306</td>\n",
       "    </tr>\n",
       "    <tr>\n",
       "      <th>...</th>\n",
       "      <td>...</td>\n",
       "      <td>...</td>\n",
       "      <td>...</td>\n",
       "      <td>...</td>\n",
       "      <td>...</td>\n",
       "      <td>...</td>\n",
       "      <td>...</td>\n",
       "      <td>...</td>\n",
       "    </tr>\n",
       "    <tr>\n",
       "      <th>9408</th>\n",
       "      <td>34.44</td>\n",
       "      <td>-119.15</td>\n",
       "      <td>33.0</td>\n",
       "      <td>2005.0</td>\n",
       "      <td>392.0</td>\n",
       "      <td>1043.0</td>\n",
       "      <td>351.0</td>\n",
       "      <td>5.3080</td>\n",
       "    </tr>\n",
       "    <tr>\n",
       "      <th>9409</th>\n",
       "      <td>36.13</td>\n",
       "      <td>-119.13</td>\n",
       "      <td>28.0</td>\n",
       "      <td>1673.0</td>\n",
       "      <td>385.0</td>\n",
       "      <td>1434.0</td>\n",
       "      <td>371.0</td>\n",
       "      <td>2.0586</td>\n",
       "    </tr>\n",
       "    <tr>\n",
       "      <th>9410</th>\n",
       "      <td>34.13</td>\n",
       "      <td>-118.08</td>\n",
       "      <td>46.0</td>\n",
       "      <td>1238.0</td>\n",
       "      <td>147.0</td>\n",
       "      <td>377.0</td>\n",
       "      <td>145.0</td>\n",
       "      <td>8.4546</td>\n",
       "    </tr>\n",
       "    <tr>\n",
       "      <th>9411</th>\n",
       "      <td>34.29</td>\n",
       "      <td>-118.46</td>\n",
       "      <td>24.0</td>\n",
       "      <td>3668.0</td>\n",
       "      <td>890.0</td>\n",
       "      <td>3151.0</td>\n",
       "      <td>810.0</td>\n",
       "      <td>3.0526</td>\n",
       "    </tr>\n",
       "    <tr>\n",
       "      <th>9412</th>\n",
       "      <td>34.00</td>\n",
       "      <td>-118.41</td>\n",
       "      <td>18.0</td>\n",
       "      <td>1307.0</td>\n",
       "      <td>441.0</td>\n",
       "      <td>884.0</td>\n",
       "      <td>456.0</td>\n",
       "      <td>2.9338</td>\n",
       "    </tr>\n",
       "  </tbody>\n",
       "</table>\n",
       "<p>9413 rows × 8 columns</p>\n",
       "</div>"
      ],
      "text/plain": [
       "      latitude  longitude  housing_median_age  total_rooms  total_bedrooms  \\\n",
       "0        36.23    -119.14                22.0       2935.0           523.0   \n",
       "1        34.12    -117.79                16.0       2426.0           426.0   \n",
       "2        33.68    -117.97                26.0       3653.0           568.0   \n",
       "3        34.10    -118.03                32.0       2668.0           609.0   \n",
       "4        37.34    -121.87                39.0       2479.0           541.0   \n",
       "...        ...        ...                 ...          ...             ...   \n",
       "9408     34.44    -119.15                33.0       2005.0           392.0   \n",
       "9409     36.13    -119.13                28.0       1673.0           385.0   \n",
       "9410     34.13    -118.08                46.0       1238.0           147.0   \n",
       "9411     34.29    -118.46                24.0       3668.0           890.0   \n",
       "9412     34.00    -118.41                18.0       1307.0           441.0   \n",
       "\n",
       "      population  households  median_income  \n",
       "0         1927.0       530.0         2.5875  \n",
       "1         1319.0       446.0         4.8125  \n",
       "2         1930.0       585.0         5.7301  \n",
       "3         1512.0       541.0         2.9422  \n",
       "4         1990.0       506.0         2.4306  \n",
       "...          ...         ...            ...  \n",
       "9408      1043.0       351.0         5.3080  \n",
       "9409      1434.0       371.0         2.0586  \n",
       "9410       377.0       145.0         8.4546  \n",
       "9411      3151.0       810.0         3.0526  \n",
       "9412       884.0       456.0         2.9338  \n",
       "\n",
       "[9413 rows x 8 columns]"
      ]
     },
     "execution_count": 45,
     "metadata": {},
     "output_type": "execute_result"
    }
   ],
   "source": [
    "df_train_zero"
   ]
  },
  {
   "cell_type": "code",
   "execution_count": 46,
   "id": "9f44912b",
   "metadata": {},
   "outputs": [
    {
     "data": {
      "text/html": [
       "<div>\n",
       "<style scoped>\n",
       "    .dataframe tbody tr th:only-of-type {\n",
       "        vertical-align: middle;\n",
       "    }\n",
       "\n",
       "    .dataframe tbody tr th {\n",
       "        vertical-align: top;\n",
       "    }\n",
       "\n",
       "    .dataframe thead th {\n",
       "        text-align: right;\n",
       "    }\n",
       "</style>\n",
       "<table border=\"1\" class=\"dataframe\">\n",
       "  <thead>\n",
       "    <tr style=\"text-align: right;\">\n",
       "      <th></th>\n",
       "      <th>latitude</th>\n",
       "      <th>longitude</th>\n",
       "      <th>housing_median_age</th>\n",
       "      <th>total_rooms</th>\n",
       "      <th>total_bedrooms</th>\n",
       "      <th>population</th>\n",
       "      <th>households</th>\n",
       "      <th>median_income</th>\n",
       "    </tr>\n",
       "  </thead>\n",
       "  <tbody>\n",
       "    <tr>\n",
       "      <th>0</th>\n",
       "      <td>37.02</td>\n",
       "      <td>-120.09</td>\n",
       "      <td>9.0</td>\n",
       "      <td>1608.0</td>\n",
       "      <td>297.0</td>\n",
       "      <td>1057.0</td>\n",
       "      <td>295.0</td>\n",
       "      <td>3.7143</td>\n",
       "    </tr>\n",
       "    <tr>\n",
       "      <th>1</th>\n",
       "      <td>33.84</td>\n",
       "      <td>-117.88</td>\n",
       "      <td>34.0</td>\n",
       "      <td>1410.0</td>\n",
       "      <td>214.0</td>\n",
       "      <td>837.0</td>\n",
       "      <td>240.0</td>\n",
       "      <td>6.1168</td>\n",
       "    </tr>\n",
       "    <tr>\n",
       "      <th>2</th>\n",
       "      <td>33.95</td>\n",
       "      <td>-118.21</td>\n",
       "      <td>32.0</td>\n",
       "      <td>1116.0</td>\n",
       "      <td>328.0</td>\n",
       "      <td>1265.0</td>\n",
       "      <td>302.0</td>\n",
       "      <td>2.2950</td>\n",
       "    </tr>\n",
       "    <tr>\n",
       "      <th>3</th>\n",
       "      <td>36.32</td>\n",
       "      <td>-119.32</td>\n",
       "      <td>29.0</td>\n",
       "      <td>2409.0</td>\n",
       "      <td>436.0</td>\n",
       "      <td>1142.0</td>\n",
       "      <td>440.0</td>\n",
       "      <td>3.6895</td>\n",
       "    </tr>\n",
       "    <tr>\n",
       "      <th>4</th>\n",
       "      <td>33.14</td>\n",
       "      <td>-117.11</td>\n",
       "      <td>10.0</td>\n",
       "      <td>3208.0</td>\n",
       "      <td>636.0</td>\n",
       "      <td>1395.0</td>\n",
       "      <td>582.0</td>\n",
       "      <td>3.4455</td>\n",
       "    </tr>\n",
       "    <tr>\n",
       "      <th>...</th>\n",
       "      <td>...</td>\n",
       "      <td>...</td>\n",
       "      <td>...</td>\n",
       "      <td>...</td>\n",
       "      <td>...</td>\n",
       "      <td>...</td>\n",
       "      <td>...</td>\n",
       "      <td>...</td>\n",
       "    </tr>\n",
       "    <tr>\n",
       "      <th>3132</th>\n",
       "      <td>36.07</td>\n",
       "      <td>-119.02</td>\n",
       "      <td>29.0</td>\n",
       "      <td>2610.0</td>\n",
       "      <td>597.0</td>\n",
       "      <td>1659.0</td>\n",
       "      <td>571.0</td>\n",
       "      <td>1.5911</td>\n",
       "    </tr>\n",
       "    <tr>\n",
       "      <th>3133</th>\n",
       "      <td>40.03</td>\n",
       "      <td>-122.10</td>\n",
       "      <td>25.0</td>\n",
       "      <td>2516.0</td>\n",
       "      <td>0.0</td>\n",
       "      <td>1266.0</td>\n",
       "      <td>494.0</td>\n",
       "      <td>1.7566</td>\n",
       "    </tr>\n",
       "    <tr>\n",
       "      <th>3134</th>\n",
       "      <td>34.00</td>\n",
       "      <td>-118.04</td>\n",
       "      <td>30.0</td>\n",
       "      <td>5308.0</td>\n",
       "      <td>854.0</td>\n",
       "      <td>2114.0</td>\n",
       "      <td>838.0</td>\n",
       "      <td>5.1985</td>\n",
       "    </tr>\n",
       "    <tr>\n",
       "      <th>3135</th>\n",
       "      <td>34.10</td>\n",
       "      <td>-118.15</td>\n",
       "      <td>36.0</td>\n",
       "      <td>3514.0</td>\n",
       "      <td>818.0</td>\n",
       "      <td>2277.0</td>\n",
       "      <td>828.0</td>\n",
       "      <td>3.1211</td>\n",
       "    </tr>\n",
       "    <tr>\n",
       "      <th>3136</th>\n",
       "      <td>34.09</td>\n",
       "      <td>-117.71</td>\n",
       "      <td>36.0</td>\n",
       "      <td>2637.0</td>\n",
       "      <td>476.0</td>\n",
       "      <td>1385.0</td>\n",
       "      <td>483.0</td>\n",
       "      <td>4.1739</td>\n",
       "    </tr>\n",
       "  </tbody>\n",
       "</table>\n",
       "<p>3137 rows × 8 columns</p>\n",
       "</div>"
      ],
      "text/plain": [
       "      latitude  longitude  housing_median_age  total_rooms  total_bedrooms  \\\n",
       "0        37.02    -120.09                 9.0       1608.0           297.0   \n",
       "1        33.84    -117.88                34.0       1410.0           214.0   \n",
       "2        33.95    -118.21                32.0       1116.0           328.0   \n",
       "3        36.32    -119.32                29.0       2409.0           436.0   \n",
       "4        33.14    -117.11                10.0       3208.0           636.0   \n",
       "...        ...        ...                 ...          ...             ...   \n",
       "3132     36.07    -119.02                29.0       2610.0           597.0   \n",
       "3133     40.03    -122.10                25.0       2516.0             0.0   \n",
       "3134     34.00    -118.04                30.0       5308.0           854.0   \n",
       "3135     34.10    -118.15                36.0       3514.0           818.0   \n",
       "3136     34.09    -117.71                36.0       2637.0           476.0   \n",
       "\n",
       "      population  households  median_income  \n",
       "0         1057.0       295.0         3.7143  \n",
       "1          837.0       240.0         6.1168  \n",
       "2         1265.0       302.0         2.2950  \n",
       "3         1142.0       440.0         3.6895  \n",
       "4         1395.0       582.0         3.4455  \n",
       "...          ...         ...            ...  \n",
       "3132      1659.0       571.0         1.5911  \n",
       "3133      1266.0       494.0         1.7566  \n",
       "3134      2114.0       838.0         5.1985  \n",
       "3135      2277.0       828.0         3.1211  \n",
       "3136      1385.0       483.0         4.1739  \n",
       "\n",
       "[3137 rows x 8 columns]"
      ]
     },
     "execution_count": 46,
     "metadata": {},
     "output_type": "execute_result"
    }
   ],
   "source": [
    "df_val_zero"
   ]
  },
  {
   "cell_type": "code",
   "execution_count": 87,
   "id": "5ca0fa41",
   "metadata": {},
   "outputs": [],
   "source": [
    "reg_list =  [0, 0.000001, 0.0001, 0.001, 0.01, 0.1, 1, 5, 10]"
   ]
  },
  {
   "cell_type": "code",
   "execution_count": 74,
   "id": "6c7c60f9",
   "metadata": {},
   "outputs": [
    {
     "data": {
      "text/plain": [
       "array([1., 1., 1., ..., 1., 1., 1.])"
      ]
     },
     "execution_count": 74,
     "metadata": {},
     "output_type": "execute_result"
    }
   ],
   "source": [
    "X= df_train_zero.copy()\n",
    "ones = np.ones(X.shape[0])\n",
    "ones"
   ]
  },
  {
   "cell_type": "code",
   "execution_count": 75,
   "id": "fdcb74ec",
   "metadata": {},
   "outputs": [
    {
     "data": {
      "text/plain": [
       "array([[ 1.0000e+00,  3.6230e+01, -1.1914e+02, ...,  1.9270e+03,\n",
       "         5.3000e+02,  2.5875e+00],\n",
       "       [ 1.0000e+00,  3.4120e+01, -1.1779e+02, ...,  1.3190e+03,\n",
       "         4.4600e+02,  4.8125e+00],\n",
       "       [ 1.0000e+00,  3.3680e+01, -1.1797e+02, ...,  1.9300e+03,\n",
       "         5.8500e+02,  5.7301e+00],\n",
       "       ...,\n",
       "       [ 1.0000e+00,  3.4130e+01, -1.1808e+02, ...,  3.7700e+02,\n",
       "         1.4500e+02,  8.4546e+00],\n",
       "       [ 1.0000e+00,  3.4290e+01, -1.1846e+02, ...,  3.1510e+03,\n",
       "         8.1000e+02,  3.0526e+00],\n",
       "       [ 1.0000e+00,  3.4000e+01, -1.1841e+02, ...,  8.8400e+02,\n",
       "         4.5600e+02,  2.9338e+00]])"
      ]
     },
     "execution_count": 75,
     "metadata": {},
     "output_type": "execute_result"
    }
   ],
   "source": [
    "X = np.column_stack([ones, X])\n",
    "X"
   ]
  },
  {
   "cell_type": "code",
   "execution_count": 78,
   "id": "0d864b46",
   "metadata": {},
   "outputs": [
    {
     "data": {
      "text/plain": [
       "(9, 9)"
      ]
     },
     "execution_count": 78,
     "metadata": {},
     "output_type": "execute_result"
    }
   ],
   "source": [
    "XTX = X.T.dot(X)\n",
    "XTX.shape"
   ]
  },
  {
   "cell_type": "code",
   "execution_count": 81,
   "id": "3b77e45a",
   "metadata": {},
   "outputs": [
    {
     "data": {
      "text/plain": [
       "array([-9.36706524e+00, -2.64785857e-01, -2.51562925e-01,  1.81363132e-03,\n",
       "       -3.45844277e-05,  2.90593511e-04, -1.52115833e-04,  4.04646494e-04,\n",
       "        1.81120807e-01])"
      ]
     },
     "execution_count": 81,
     "metadata": {},
     "output_type": "execute_result"
    }
   ],
   "source": [
    "XTX = XTX + 0.01 * np.eye(XTX.shape[0])\n",
    "XTX_inv = np.linalg.inv(XTX)\n",
    "w_full = XTX_inv.dot(X.T).dot(y_train)\n",
    "w_full"
   ]
  },
  {
   "cell_type": "code",
   "execution_count": null,
   "id": "197dee7c",
   "metadata": {},
   "outputs": [],
   "source": []
  },
  {
   "cell_type": "code",
   "execution_count": 63,
   "id": "11eca462",
   "metadata": {},
   "outputs": [],
   "source": [
    "def train_linear_regression_reg(X, y, r):\n",
    "    ones = np.ones(X.shape[0])\n",
    "    X = np.column_stack([ones, X])\n",
    "\n",
    "    XTX = X.T.dot(X)\n",
    "    XTX = XTX + r * np.eye(XTX.shape[0])\n",
    "\n",
    "    XTX_inv = np.linalg.inv(XTX)\n",
    "    w_full = XTX_inv.dot(X.T).dot(y)\n",
    "    \n",
    "    return w_full[0], w_full[1:]"
   ]
  },
  {
   "cell_type": "code",
   "execution_count": 70,
   "id": "6ad07020",
   "metadata": {},
   "outputs": [
    {
     "data": {
      "text/plain": [
       "0.34891577726256195"
      ]
     },
     "execution_count": 70,
     "metadata": {},
     "output_type": "execute_result"
    }
   ],
   "source": [
    "w0, w = train_linear_regression_reg(df_train_zero, y_train, r=100.0)\n",
    "\n",
    "y_pred = w0 + df_val_zero.dot(w)\n",
    "rmse(y_val, y_pred)"
   ]
  },
  {
   "cell_type": "code",
   "execution_count": 72,
   "id": "94acfe02",
   "metadata": {},
   "outputs": [],
   "source": []
  },
  {
   "cell_type": "code",
   "execution_count": 73,
   "id": "0d74d389",
   "metadata": {},
   "outputs": [
    {
     "data": {
      "text/plain": [
       "{}"
      ]
     },
     "execution_count": 73,
     "metadata": {},
     "output_type": "execute_result"
    }
   ],
   "source": []
  },
  {
   "cell_type": "code",
   "execution_count": 88,
   "id": "f992f819",
   "metadata": {},
   "outputs": [],
   "source": [
    "di = {}\n",
    "for i in reg_list:\n",
    "    w0, w = train_linear_regression_reg(df_train_zero, y_train, i)\n",
    "    y_pred = w0 + df_val_zero.dot(w)\n",
    "    di[i] = rmse(y_val, y_pred)"
   ]
  },
  {
   "cell_type": "code",
   "execution_count": 89,
   "id": "15cae615",
   "metadata": {},
   "outputs": [
    {
     "data": {
      "text/plain": [
       "{0: 0.34084790341353166,\n",
       " 1e-06: 0.3408479061817738,\n",
       " 0.0001: 0.3408481800535226,\n",
       " 0.001: 0.3408506921905853,\n",
       " 0.01: 0.3408779300447231,\n",
       " 0.1: 0.34128620419886646,\n",
       " 1: 0.34489583276444896,\n",
       " 5: 0.3477398070487751,\n",
       " 10: 0.3483149833520408}"
      ]
     },
     "execution_count": 89,
     "metadata": {},
     "output_type": "execute_result"
    }
   ],
   "source": [
    "di"
   ]
  },
  {
   "cell_type": "code",
   "execution_count": 90,
   "id": "13cab65c",
   "metadata": {},
   "outputs": [
    {
     "data": {
      "text/plain": [
       "0.34084790341353166"
      ]
     },
     "execution_count": 90,
     "metadata": {},
     "output_type": "execute_result"
    }
   ],
   "source": [
    "t = min(di.values())\n",
    "t"
   ]
  },
  {
   "cell_type": "code",
   "execution_count": 91,
   "id": "5d7ba521",
   "metadata": {},
   "outputs": [
    {
     "name": "stdout",
     "output_type": "stream",
     "text": [
      "\n",
      "Min Key:: 0\n"
     ]
    }
   ],
   "source": [
    "for key,value in di.items():\n",
    "    if di[key] == min(di.values()):\n",
    "        print('\\nMin Key::',key)"
   ]
  },
  {
   "cell_type": "code",
   "execution_count": 92,
   "id": "cd3a1c22",
   "metadata": {},
   "outputs": [
    {
     "data": {
      "text/plain": [
       "0"
      ]
     },
     "execution_count": 92,
     "metadata": {},
     "output_type": "execute_result"
    }
   ],
   "source": [
    "#stackoverflow solution for minimum value's key\n",
    "min(di, key=di.get)"
   ]
  },
  {
   "cell_type": "code",
   "execution_count": 98,
   "id": "3eda571f",
   "metadata": {},
   "outputs": [
    {
     "name": "stdout",
     "output_type": "stream",
     "text": [
      "0.34084790341353166\n"
     ]
    }
   ],
   "source": [
    "# Best regularization r=0\n",
    "w0, w = train_linear_regression_reg(df_train_zero, y_train, 0)\n",
    "y_pred = w0 + df_val_zero.dot(w)\n",
    "print(rmse(y_val, y_pred))"
   ]
  },
  {
   "cell_type": "code",
   "execution_count": null,
   "id": "b2410b6e",
   "metadata": {},
   "outputs": [],
   "source": []
  },
  {
   "cell_type": "markdown",
   "id": "a3d9a24b",
   "metadata": {},
   "source": [
    "### Question 5\n",
    "We used seed 42 for splitting the data. Let's find out how selecting the seed influences our score.\n",
    "\n",
    "Try different seed values: [0, 1, 2, 3, 4, 5, 6, 7, 8, 9].\n",
    "\n",
    "For each seed, do the train/validation/test split with 60%/20%/20% distribution.\n",
    "\n",
    "Fill the missing values with 0 and train a model without regularization.\n",
    "\n",
    "For each seed, evaluate the model on the validation dataset and collect the RMSE scores.\n",
    "\n",
    "What's the standard deviation of all the scores? To compute the standard deviation, use np.std.\n",
    "\n",
    "Round the result to 3 decimal digits (round(std, 3))"
   ]
  },
  {
   "cell_type": "code",
   "execution_count": 119,
   "id": "c741d6a4",
   "metadata": {},
   "outputs": [
    {
     "data": {
      "text/plain": [
       "157"
      ]
     },
     "execution_count": 119,
     "metadata": {},
     "output_type": "execute_result"
    }
   ],
   "source": [
    "df2['total_bedrooms'].isnull().sum()"
   ]
  },
  {
   "cell_type": "code",
   "execution_count": 107,
   "id": "04c5df39",
   "metadata": {},
   "outputs": [],
   "source": [
    "n2 = len(df2)\n",
    "n_val = int(n*0.2)\n",
    "n_test = int(n*0.2)\n",
    "n_train = n-n_test-n_val"
   ]
  },
  {
   "cell_type": "code",
   "execution_count": 128,
   "id": "23166520",
   "metadata": {},
   "outputs": [],
   "source": [
    "def prep_df(r_seed):\n",
    "    \n",
    "    df21 = df2.copy()\n",
    "    df21['total_bedrooms'].fillna(0,inplace=True)\n",
    "    \n",
    "    #Setting random seed\n",
    "    np.random.seed(r_seed)\n",
    "    idx = np.arange(n)\n",
    "    np.random.shuffle(idx)\n",
    "    print(\"Shuffle:: \",idx[:7])\n",
    "    \n",
    "    #Split dataset 60/20/20\n",
    "    X_df_train = df21.iloc[idx[:n_train]]\n",
    "    X_df_val = df21.iloc[idx[n_train:n_train+n_val]]\n",
    "    X_df_test = df21.iloc[idx[n_train+n_val:]]    \n",
    "    print(df_train.shape,df_val.shape,df_test.shape)\n",
    "    \n",
    "    #Reset index for df\n",
    "    X_df_train = X_df_train.reset_index(drop=True)\n",
    "    X_df_val = X_df_val.reset_index(drop=True)\n",
    "    X_df_test = X_df_test.reset_index(drop=True)\n",
    "        \n",
    "    #Log transformation on the Target Variables\n",
    "    y_train = np.log1p(X_df_train['median_house_value'].values)\n",
    "    y_val = np.log1p(X_df_val['median_house_value'].values)\n",
    "    y_test = np.log1p(X_df_test['median_house_value'].values)\n",
    "    \n",
    "    \n",
    "    del X_df_train['median_house_value']\n",
    "    del X_df_val['median_house_value']\n",
    "    del X_df_test['median_house_value']\n",
    "    \n",
    "    \n",
    "    w0, w = train_linear_regression(X_df_train,y_train)\n",
    "    y_pr = w0 + X_df_val.dot(w)\n",
    "    res = rmse(y_val,y_pr).round(3)\n",
    "    \n",
    "    return(res)"
   ]
  },
  {
   "cell_type": "code",
   "execution_count": 129,
   "id": "e5cead0d",
   "metadata": {},
   "outputs": [],
   "source": [
    "#X_train,X_val,X_test,y_tr,y_vl,y_ts = prep_df(2)\n",
    "\n",
    "#w0, w = train_linear_regression(X_train,y_tr)\n",
    "#y_pr = w0 + X_val.dot(w)\n",
    "#rmse(y_vl,y_pr).round(2)"
   ]
  },
  {
   "cell_type": "code",
   "execution_count": 130,
   "id": "92a44362",
   "metadata": {},
   "outputs": [],
   "source": [
    "rmse_list = []"
   ]
  },
  {
   "cell_type": "code",
   "execution_count": 131,
   "id": "3fc2ad71",
   "metadata": {},
   "outputs": [
    {
     "name": "stdout",
     "output_type": "stream",
     "text": [
      "Shuffle::  [ 2108 14652  9193  2466  4183 15503 10945]\n",
      "(9413, 8) (3137, 8) (3137, 8)\n",
      "Shuffle::  [13724 12519  1301  5037  7703  7921  7504]\n",
      "(9413, 8) (3137, 8) (3137, 8)\n",
      "Shuffle::  [ 7820  6855 12244  7188   109  4265  6069]\n",
      "(9413, 8) (3137, 8) (3137, 8)\n",
      "Shuffle::  [ 6856  5611 11049  5904  1415  7549  6433]\n",
      "(9413, 8) (3137, 8) (3137, 8)\n",
      "Shuffle::  [10994 12843 13901 11023  5780  3790  4414]\n",
      "(9413, 8) (3137, 8) (3137, 8)\n",
      "Shuffle::  [ 8324 12931  2230  8018  7758 10368 11085]\n",
      "(9413, 8) (3137, 8) (3137, 8)\n",
      "Shuffle::  [ 8244 10521  7999  3442  9216 10985  5660]\n",
      "(9413, 8) (3137, 8) (3137, 8)\n",
      "Shuffle::  [13915  1406  9855  2998 13231 15216  9260]\n",
      "(9413, 8) (3137, 8) (3137, 8)\n",
      "Shuffle::  [ 6892 13175  3923  6434 13607 10567  8127]\n",
      "(9413, 8) (3137, 8) (3137, 8)\n"
     ]
    }
   ],
   "source": [
    "for i in range(9):\n",
    "    rmse_list.append(prep_df(i))"
   ]
  },
  {
   "cell_type": "code",
   "execution_count": 132,
   "id": "9a1d6cf0",
   "metadata": {},
   "outputs": [
    {
     "data": {
      "text/plain": [
       "[0.338, 0.338, 0.338, 0.332, 0.339, 0.343, 0.339, 0.347, 0.351]"
      ]
     },
     "execution_count": 132,
     "metadata": {},
     "output_type": "execute_result"
    }
   ],
   "source": [
    "rmse_list"
   ]
  },
  {
   "cell_type": "code",
   "execution_count": 134,
   "id": "743e9849",
   "metadata": {},
   "outputs": [
    {
     "data": {
      "text/plain": [
       "0.005"
      ]
     },
     "execution_count": 134,
     "metadata": {},
     "output_type": "execute_result"
    }
   ],
   "source": [
    "round(np.std(rmse_list),3)"
   ]
  },
  {
   "cell_type": "code",
   "execution_count": null,
   "id": "94c7eaef",
   "metadata": {},
   "outputs": [],
   "source": []
  },
  {
   "cell_type": "markdown",
   "id": "c9a8e4d3",
   "metadata": {},
   "source": [
    "### Question 6\n",
    "Split the dataset like previously, use seed 9.\n",
    "\n",
    "Combine train and validation datasets.\n",
    "\n",
    "Fill the missing values with 0 and train a model with r=0.001.\n",
    "\n",
    "What's the RMSE on the test dataset?"
   ]
  },
  {
   "cell_type": "code",
   "execution_count": 136,
   "id": "99c945dc",
   "metadata": {},
   "outputs": [
    {
     "name": "stdout",
     "output_type": "stream",
     "text": [
      "Shuffle_9::  [11994  5634 13629 13205  6243  4122  3213]\n",
      "(9413, 8) (3137, 8) (3137, 8)\n"
     ]
    }
   ],
   "source": [
    "df22 = df2.copy()\n",
    "df22['total_bedrooms'].fillna(0,inplace=True)\n",
    "\n",
    "#Setting random seed = 9\n",
    "np.random.seed(9)\n",
    "idx = np.arange(n)\n",
    "np.random.shuffle(idx)\n",
    "print(\"Shuffle_9:: \",idx[:7])\n",
    "\n",
    "#Split dataset 60/20/20\n",
    "X_df_train = df22.iloc[idx[:n_train]]\n",
    "X_df_val = df22.iloc[idx[n_train:n_train+n_val]]\n",
    "X_df_test = df22.iloc[idx[n_train+n_val:]]    \n",
    "print(df_train.shape,df_val.shape,df_test.shape)"
   ]
  },
  {
   "cell_type": "code",
   "execution_count": 137,
   "id": "28299b5a",
   "metadata": {},
   "outputs": [],
   "source": [
    "#Reset index for df\n",
    "X_df_train = X_df_train.reset_index(drop=True)\n",
    "X_df_val = X_df_val.reset_index(drop=True)\n",
    "X_df_test = X_df_test.reset_index(drop=True)\n",
    "\n",
    "#Log transformation on the Target Variables\n",
    "y_train = np.log1p(X_df_train['median_house_value'].values)\n",
    "y_val = np.log1p(X_df_val['median_house_value'].values)\n",
    "y_test = np.log1p(X_df_test['median_house_value'].values)\n",
    "\n",
    "\n",
    "del X_df_train['median_house_value']\n",
    "del X_df_val['median_house_value']\n",
    "del X_df_test['median_house_value']"
   ]
  },
  {
   "cell_type": "code",
   "execution_count": 138,
   "id": "07ea8e51",
   "metadata": {},
   "outputs": [],
   "source": [
    "X_full_train = pd.concat([X_df_train,X_df_val])"
   ]
  },
  {
   "cell_type": "code",
   "execution_count": 151,
   "id": "771e9a72",
   "metadata": {},
   "outputs": [
    {
     "data": {
      "text/plain": [
       "array([[  32.82  , -117.05  ,   16.    , ..., 1684.    ,  701.    ,\n",
       "           4.2312],\n",
       "       [  33.91  , -118.    ,   19.    , ..., 2374.    ,  753.    ,\n",
       "           5.979 ],\n",
       "       [  37.25  , -121.96  ,   35.    , ...,  484.    ,  174.    ,\n",
       "           6.1648],\n",
       "       ...,\n",
       "       [  32.85  , -116.99  ,   32.    , ..., 3025.    ,  948.    ,\n",
       "           4.0931],\n",
       "       [  38.48  , -122.68  ,   15.    , ...,  716.    ,  259.    ,\n",
       "           5.3409],\n",
       "       [  37.29  , -121.95  ,   30.    , ..., 1834.    ,  824.    ,\n",
       "           3.4505]])"
      ]
     },
     "execution_count": 151,
     "metadata": {},
     "output_type": "execute_result"
    }
   ],
   "source": [
    "X_full_train.values"
   ]
  },
  {
   "cell_type": "code",
   "execution_count": 147,
   "id": "f79cbd4d",
   "metadata": {},
   "outputs": [
    {
     "data": {
      "text/plain": [
       "array([12.19096408, 12.56094947, 12.82638297, ..., 11.80709396,\n",
       "       12.40738359, 12.46844076])"
      ]
     },
     "execution_count": 147,
     "metadata": {},
     "output_type": "execute_result"
    }
   ],
   "source": [
    "y_full_train = np.concatenate([y_train,y_val])\n",
    "y_full_train"
   ]
  },
  {
   "cell_type": "code",
   "execution_count": 158,
   "id": "687fae31",
   "metadata": {},
   "outputs": [],
   "source": [
    "#w0, w = train_linear_regression(X_full_train.values, y_full_train)\n",
    "w0, w = train_linear_regression_reg(X_full_train.values, y_full_train, 0.001)\n",
    "y_pr = w0 + X_df_test.dot(w)\n",
    "rmse_test = rmse(y_test,y_pr).round(3)"
   ]
  },
  {
   "cell_type": "code",
   "execution_count": 159,
   "id": "58c80f1d",
   "metadata": {},
   "outputs": [
    {
     "data": {
      "text/plain": [
       "0.335"
      ]
     },
     "execution_count": 159,
     "metadata": {},
     "output_type": "execute_result"
    }
   ],
   "source": [
    "rmse_test"
   ]
  },
  {
   "cell_type": "code",
   "execution_count": null,
   "id": "57ea12fb",
   "metadata": {},
   "outputs": [],
   "source": []
  }
 ],
 "metadata": {
  "kernelspec": {
   "display_name": "Python 3 (ipykernel)",
   "language": "python",
   "name": "python3"
  },
  "language_info": {
   "codemirror_mode": {
    "name": "ipython",
    "version": 3
   },
   "file_extension": ".py",
   "mimetype": "text/x-python",
   "name": "python",
   "nbconvert_exporter": "python",
   "pygments_lexer": "ipython3",
   "version": "3.9.7"
  }
 },
 "nbformat": 4,
 "nbformat_minor": 5
}
